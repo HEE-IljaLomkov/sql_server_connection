{
 "cells": [
  {
   "cell_type": "markdown",
   "metadata": {},
   "source": [
    "# ```BEFORE RUNNING THIS SCRIPT, LOG INTO THE VPN```"
   ]
  },
  {
   "cell_type": "code",
   "execution_count": null,
   "metadata": {},
   "outputs": [],
   "source": [
    "import pandas as pd # dataframe management\n",
    "import sqlalchemy # connection with ssms\n",
    "import PRIVATE # private variables"
   ]
  },
  {
   "cell_type": "code",
   "execution_count": null,
   "metadata": {},
   "outputs": [],
   "source": [
    "def Load_SSMS_Data(server: str, username: str, database_name: str, database_table: str) -> pd.DataFrame:\n",
    "    \"\"\"\n",
    "    Function to connect to SQL Server Management Studio (SSMS).\n",
    "    Call this function when needing to connect to a new database.\n",
    "    INPUTS:\n",
    "        - server (type: string). Declare the SQL server to connect to.\n",
    "        - username (type: string). Declare the login username.\n",
    "        - database_name (type: string). Declare the name of the database to load data from.\n",
    "        - database_table (type: string). Declare the login username.\n",
    "    OUTPUTS:\n",
    "        - dataframe (type: Pandas dataframe object).\n",
    "    \"\"\"\n",
    "\n",
    "    AUTH_METHOD = \"ActiveDirectoryInteractive\" # MultiFactor Authentication (MFA)\n",
    "    SQL_DRIVER = \"{ODBC Driver 17 for SQL Server}\"\n",
    "\n",
    "    # https://learn.microsoft.com/en-us/azure/active-directory/authentication/concepts-azure-multi-factor-authentication-prompts-session-lifetime\n",
    "    # https://learn.microsoft.com/en-us/sql/connect/odbc/using-azure-active-directory?view=sql-server-2017#new-andor-modified-dsn-and-connection-string-keywords\n",
    "    CONNECTION_STRING = (\n",
    "        f\"DRIVER={SQL_DRIVER};\" +\n",
    "        f\"SERVER={server};\" +\n",
    "        f\"DATABASE={database_name};\" +\n",
    "        f\"UID={username};\" +\n",
    "        f\"AUTHENTICATION={AUTH_METHOD}\"\n",
    "    )\n",
    "\n",
    "    connection_url = sqlalchemy.engine.URL.create(\"mssql+pyodbc\", query={\"odbc_connect\":CONNECTION_STRING})\n",
    "\n",
    "    engine = sqlalchemy.create_engine(connection_url)\n",
    "\n",
    "    sql_query = (\n",
    "        f\"SELECT TOP (100) *  FROM dbo.{database_table}\" + \" \" # must add spaces between lines\n",
    "    )\n",
    "\n",
    "    with engine.connect() as connection:\n",
    "        df = pd.read_sql(sql_query, connection)\n",
    "\n",
    "    return (df)\n"
   ]
  },
  {
   "cell_type": "code",
   "execution_count": null,
   "metadata": {},
   "outputs": [],
   "source": [
    "database_name = \"\"\n",
    "database_table = \"\"\n",
    "\n",
    "df = Load_SSMS_Data(\n",
    "    server=PRIVATE.SERVER,\n",
    "    username=PRIVATE.USERNAME,\n",
    "    database_name=database_name,\n",
    "    database_table=database_table\n",
    ")\n",
    "\n",
    "display(df)"
   ]
  },
  {
   "cell_type": "code",
   "execution_count": null,
   "metadata": {},
   "outputs": [],
   "source": []
  }
 ],
 "metadata": {
  "kernelspec": {
   "display_name": "base",
   "language": "python",
   "name": "python3"
  },
  "language_info": {
   "codemirror_mode": {
    "name": "ipython",
    "version": 3
   },
   "file_extension": ".py",
   "mimetype": "text/x-python",
   "name": "python",
   "nbconvert_exporter": "python",
   "pygments_lexer": "ipython3",
   "version": "3.11.4"
  },
  "orig_nbformat": 4
 },
 "nbformat": 4,
 "nbformat_minor": 2
}
